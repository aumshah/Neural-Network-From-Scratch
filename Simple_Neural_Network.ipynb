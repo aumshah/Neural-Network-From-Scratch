{
  "nbformat": 4,
  "nbformat_minor": 0,
  "metadata": {
    "colab": {
      "name": "Simple Neural Network",
      "provenance": [],
      "collapsed_sections": [],
      "authorship_tag": "ABX9TyPqjaMRzZT4Mx0YcHRcrJcq",
      "include_colab_link": true
    },
    "kernelspec": {
      "name": "python3",
      "display_name": "Python 3"
    },
    "language_info": {
      "name": "python"
    }
  },
  "cells": [
    {
      "cell_type": "markdown",
      "metadata": {
        "id": "view-in-github",
        "colab_type": "text"
      },
      "source": [
        "<a href=\"https://colab.research.google.com/github/aumshah/Simple-Neural-Network/blob/main/Simple_Neural_Network.ipynb\" target=\"_parent\"><img src=\"https://colab.research.google.com/assets/colab-badge.svg\" alt=\"Open In Colab\"/></a>"
      ]
    },
    {
      "cell_type": "code",
      "execution_count": null,
      "metadata": {
        "id": "RikeztPRadR-"
      },
      "outputs": [],
      "source": [
        "#Imports Useful Packages such as random and matplotlib\n",
        "import random\n",
        "import matplotlib.pyplot as plt"
      ]
    },
    {
      "cell_type": "code",
      "source": [
        "# Main Neural Network Class\n",
        "class NeuralNetwork():\n",
        "  def __init__(self, x_data, y_data):\n",
        "    self.x_data = x_data\n",
        "    self.y_data = y_data\n",
        "    self.datalength = len(self.x_data)\n",
        "    # Makes sure input data and output data have the same length\n",
        "    if len(x_data) != len(y_data):\n",
        "      raise Exception(\"The arrays have different lengths!\")\n",
        "    \n",
        "    #Sets a random seed so that the initial weight and bias is the exact same every time (for testing purposes)\n",
        "    random.seed(3141592653589)\n",
        "    self.weight = random.uniform(-5,5)\n",
        "    random.seed(2718281828459)\n",
        "    self.bias = random.uniform(-5,5)\n",
        "\n",
        "  # Simple function that takes an input and feeds it into the neural network. In this case, the\n",
        "  # Neural Network is very simple with one input and one output with 1 weight and 1 bias This\n",
        "  # makes it easier to find the derivative of the cost function of the Neural Network.\n",
        "  def feed_forward(self,x):\n",
        "    return x*self.weight + self.bias\n",
        "  \n",
        "  # This is the cost function of the Neural Network. It uses the feed_forward() function to go\n",
        "  # get the predicted output. Then, it finds the difference between the actual y value and the\n",
        "  # predicted output and squares it.\n",
        "  def cost(self):\n",
        "    costs = []\n",
        "    for i, x in enumerate(self.x_data):\n",
        "      pred = self.feed_forward(x)\n",
        "      error = (pred - self.y_data[i]) ** 2\n",
        "      costs.append(error)\n",
        "    return sum(costs)/len(costs)\n",
        "  \n",
        "  # This is the derivative of the cost function with respect to the weight using one data point.\n",
        "  def derivative_w(self, input, target):\n",
        "    return (2*(input**2)*self.weight) + 2*input*self.bias - 2*target*input\n",
        "\n",
        "  # This is the derivative of the cost function with respect to the bias using one data point.\n",
        "  def derivative_b(self, input, target):\n",
        "    return 2*input*self.weight - 2*target + 2*self.bias\n",
        "  \n",
        "  # This is the training function and the inputs are the learning rate and the number of \n",
        "  # epochs. This function uses the derivative function to calculate the derivative of the \n",
        "  # cost function with the current value of the weight and bias. It multiplies this value by the \n",
        "  # learning rate to get the updated weight and bias. This process is repeated for every element in\n",
        "  # the dataset for 1 epoch.\n",
        "  def train(self, learning_rate, epochs):\n",
        "    # Creates a list that stores all of the costs.\n",
        "    self.costs = []\n",
        "    # Plots the graph of the line with the original weight in red.\n",
        "    data2 = []\n",
        "    for x in range(self.datalength):\n",
        "      data2.append(self.feed_forward(x))\n",
        "    plt.plot(range(self.datalength),data2, color='r')\n",
        "\n",
        "    # Loops x times where x is the number of epochs\n",
        "    for iter in range(epochs):\n",
        "      \n",
        "      # This is where the main backpropogation occurs. For every datapoint in the dataset,\n",
        "      # the derivative is calculated and is used to update the weight and bias. The cost is also \n",
        "      # calculated and self.costs is updated.\n",
        "      for i, target in enumerate(self.y_data):\n",
        "        self.weight = self.weight-(learning_rate*self.derivative_w(i,target))\n",
        "        self.bias = self.bias-(learning_rate*self.derivative_b(i,target))\n",
        "        self.costs.append(self.cost())\n",
        "      # This plots the graph of the new line with the updated weight. For the final line,\n",
        "      # the color is green.\n",
        "      data2 = []\n",
        "       \n",
        "    for x in range(self.datalength):\n",
        "        data2.append(self.feed_forward(x))      \n",
        "    plt.plot(range(self.datalength),data2,color='g')\n",
        "    # Plots the data points\n",
        "    plt.scatter(x=self.x_data,y=self.y_data)\n",
        "\n",
        "    # Shows the trained weight and bias\n",
        "    print(\"Trained Weight\", self.weight)\n",
        "    print(\"Trained Bias\", self.bias)\n",
        "\n",
        "    # Shows the plot\n",
        "    plt.show()\n",
        "  \n",
        "  #Shows a plot of the costs\n",
        "  def graphcost(self):\n",
        "    plt.plot(range(len(self.costs)),self.costs)\n",
        "    plt.show()"
      ],
      "metadata": {
        "id": "N4djQKo9frcv"
      },
      "execution_count": 45,
      "outputs": []
    },
    {
      "cell_type": "code",
      "source": [
        "# Creates the dataset which is a straight line distorted slightly\n",
        "datasetlength = 10\n",
        "data_y = []\n",
        "data_x = range(datasetlength)\n",
        "for x in range(datasetlength):\n",
        "  y = x*(random.uniform(2,3)) + random.uniform(40,50)\n",
        "  data_y.append(y)"
      ],
      "metadata": {
        "id": "hTNL5d3BlGvR"
      },
      "execution_count": 46,
      "outputs": []
    },
    {
      "cell_type": "code",
      "source": [
        "# Creates a Neural Network Object and prints the initial cost and inital display.\n",
        "N = NeuralNetwork(data_x, data_y)\n",
        "print(\"Initial Cost:\", N.cost())\n",
        "print(\"Initial Weight:\", N.weight)\n",
        "\n",
        "# Trains the Neural Network and prints the final cost.\n",
        "N.train(learning_rate=0.001, epochs=1000)\n",
        "print(\"Final Cost:\", N.cost())\n",
        "N.graphcost()"
      ],
      "metadata": {
        "colab": {
          "base_uri": "https://localhost:8080/",
          "height": 604
        },
        "id": "5NrDX-KReZY_",
        "outputId": "84da443b-88ba-43b8-da44-0d7c9ab51971"
      },
      "execution_count": 47,
      "outputs": [
        {
          "output_type": "stream",
          "name": "stdout",
          "text": [
            "Initial Cost: 2894.790134916823\n",
            "Initial Weight: 0.4554550362634737\n",
            "Trained Weight 2.418010414941172\n",
            "Trained Bias 45.27042560101202\n"
          ]
        },
        {
          "output_type": "display_data",
          "data": {
            "image/png": "[encoded data removed]",
            "text/plain": [
              "<Figure size 432x288 with 1 Axes>"
            ]
          },
          "metadata": {
            "needs_background": "light"
          }
        },
        {
          "output_type": "stream",
          "name": "stdout",
          "text": [
            "Final Cost: 5.649492353993932\n"
          ]
        },
        {
          "output_type": "display_data",
          "data": {
            "image/png": "[encoded data removed]",
            "text/plain": [
              "<Figure size 432x288 with 1 Axes>"
            ]
          },
          "metadata": {
            "needs_background": "light"
          }
        }
      ]
    }
  ]
}