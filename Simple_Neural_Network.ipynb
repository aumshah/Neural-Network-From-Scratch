{
  "nbformat": 4,
  "nbformat_minor": 0,
  "metadata": {
    "colab": {
      "name": "Simple Neural Network",
      "provenance": [],
      "collapsed_sections": [],
      "authorship_tag": "ABX9TyP6eKHgjkubd6ahqHyUn4yt",
      "include_colab_link": true
    },
    "kernelspec": {
      "name": "python3",
      "display_name": "Python 3"
    },
    "language_info": {
      "name": "python"
    }
  },
  "cells": [
    {
      "cell_type": "markdown",
      "metadata": {
        "id": "view-in-github",
        "colab_type": "text"
      },
      "source": [
        "<a href=\"https://colab.research.google.com/github/aumshah/Simple-Neural-Network/blob/main/Simple_Neural_Network.ipynb\" target=\"_parent\"><img src=\"https://colab.research.google.com/assets/colab-badge.svg\" alt=\"Open In Colab\"/></a>"
      ]
    },
    {
      "cell_type": "code",
      "source": [
        "#This is a test"
      ],
      "metadata": {
        "id": "HqGHrgx-BurE"
      },
      "execution_count": null,
      "outputs": []
    },
    {
      "cell_type": "code",
      "execution_count": 93,
      "metadata": {
        "id": "RikeztPRadR-"
      },
      "outputs": [],
      "source": [
        "#Imports Useful Packages such as numpy and matplotlib\n",
        "import random\n",
        "import matplotlib.pyplot as plt"
      ]
    },
    {
      "cell_type": "code",
      "source": [
        "# Main Neural Network Class\n",
        "class NeuralNetwork():\n",
        "  def __init__(self, x_data, y_data):\n",
        "    self.x_data = x_data\n",
        "    self.y_data = y_data\n",
        "    # Makes sure input data and output data have the same length\n",
        "    if len(x_data) != len(y_data):\n",
        "      raise Exception(\"The arrays have different lengths!\")\n",
        "    \n",
        "    #Sets a random seed so that the initial weight is the exact same every time (for testing purposes)\n",
        "    random.seed(10)\n",
        "    self.weight = random.uniform(-5,5)\n",
        "  \n",
        "  # Simple function that takes an input and feeds it into the neural network. In this case, the\n",
        "  # Neural Network is very simple with one input and one output with 1 weight and no bias. This\n",
        "  # makes it easier to find the derivative of the cost function of the Neural Network.\n",
        "  def feed_forward(self,x):\n",
        "    return x*self.weight\n",
        "  \n",
        "  # This is the cost function of the Neural Network. It uses the feed_forward() function to go\n",
        "  # get the predicted output. Then, it finds the difference between the actual y value and the\n",
        "  # predicted output and squares it.\n",
        "  def cost(self):\n",
        "    costs = []\n",
        "    for i, x in enumerate(self.x_data):\n",
        "      pred = self.feed_forward(x)\n",
        "      error = (pred - self.y_data[i]) ** 2\n",
        "      costs.append(error)\n",
        "    return sum(costs)/len(costs)\n",
        "  \n",
        "  # This is the derivative of the cost function using one data point.\n",
        "  def derivative(self, input, target):\n",
        "    return ((2*input*input*self.weight) - (2 * input * target)) \n",
        "\n",
        "  # This is the training function and the inputs are the learning rate and the number of \n",
        "  # epochs. This function uses the derivative function to calculate the derivative of the \n",
        "  # cost function with the current value of the weight. It multiplies this value by the \n",
        "  # learning rate to get the updated weight. This process is repeated for every element in\n",
        "  # the dataset for 1 epoch.\n",
        "  def train(self, learning_rate, epochs):\n",
        "    # Plots the graph of the line with the original weight in red.\n",
        "    data2 = []\n",
        "    for x in range(10):\n",
        "      data2.append(self.weight*x)\n",
        "    plt.plot(range(10),data2, color='r')\n",
        "\n",
        "    # Loops x times where x is the number of epochs\n",
        "    for iter in range(epochs):\n",
        "      \n",
        "      # This is where the main backpropogation occurs. For every datapoint in the dataset,\n",
        "      # the derivative is calculated and is used to update the weight\n",
        "      for i, target in enumerate(self.y_data):\n",
        "        self.weight = self.weight-(learning_rate*self.derivative(i,target))\n",
        "      \n",
        "      # This plots the graph of the new line with the updated weight. For the final line,\n",
        "      # the color is green.\n",
        "      data2 = []\n",
        "      for x in range(10):\n",
        "        data2.append(N.weight*x)\n",
        "      if iter == (epochs-1):\n",
        "        plt.plot(range(10),data2,color='g')\n",
        "      else:\n",
        "        plt.plot(range(10),data2,color='b')\n",
        "    \n",
        "    # Plots the data points\n",
        "    plt.scatter(x=self.x_data,y=self.y_data)\n",
        "\n",
        "    # Shows the trained weight\n",
        "    print(\"Trained Weight\", self.weight)\n",
        "    "
      ],
      "metadata": {
        "id": "N4djQKo9frcv"
      },
      "execution_count": 94,
      "outputs": []
    },
    {
      "cell_type": "code",
      "source": [
        "## Creates the dataset which is a straight line distorted slightly\n",
        "data_y = []\n",
        "data_x = range(10)\n",
        "for x in range(10):\n",
        "  y = x*(random.uniform(8,10))\n",
        "  data_y.append(y)"
      ],
      "metadata": {
        "id": "hTNL5d3BlGvR"
      },
      "execution_count": 95,
      "outputs": []
    },
    {
      "cell_type": "code",
      "source": [
        "# Creates a Neural Network Object and prints the initial cost and inital display.\n",
        "N = NeuralNetwork(data_x, data_y)\n",
        "print(\"Initial Cost:\", N.cost())\n",
        "print(\"Initial Weight:\", N.weight)\n",
        "\n",
        "# Trains the Neural Network and prints the final cost.\n",
        "N.train(learning_rate=0.001, epochs=8)\n",
        "print(\"Final Cost:\", N.cost())"
      ],
      "metadata": {
        "colab": {
          "base_uri": "https://localhost:8080/",
          "height": 334
        },
        "id": "5NrDX-KReZY_",
        "outputId": "8b429fb1-285d-40fa-8c46-a15b4e36bfc0"
      },
      "execution_count": 96,
      "outputs": [
        {
          "output_type": "stream",
          "name": "stdout",
          "text": [
            "Initial Cost: 1857.3409494267903\n",
            "Initial Weight: 0.7140259468991346\n",
            "Trained Weight 8.666886450155411\n",
            "Final Cost: 4.7861764092613885\n"
          ]
        },
        {
          "output_type": "display_data",
          "data": {
            "image/png": "[encoded data removed]",
            "text/plain": [
              "<Figure size 432x288 with 1 Axes>"
            ]
          },
          "metadata": {
            "needs_background": "light"
          }
        }
      ]
    }
  ]
}